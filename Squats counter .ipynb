{
 "cells": [
  {
   "cell_type": "markdown",
   "id": "1ad3cd53",
   "metadata": {},
   "source": [
    "## Squats Counter Using Mediapipe"
   ]
  },
  {
   "cell_type": "markdown",
   "id": "e80fe0b8",
   "metadata": {},
   "source": [
    "Features:\n",
    "1. Initiation Action (Hands-up Position) \n",
    "2. Squat Posture (Knee Angle Calculator)\n",
    "3. Voice Counter (Voice Feedback)"
   ]
  },
  {
   "cell_type": "markdown",
   "id": "1751c98e",
   "metadata": {},
   "source": [
    "Importing Dependences"
   ]
  },
  {
   "cell_type": "code",
   "execution_count": 1,
   "id": "628e97eb",
   "metadata": {},
   "outputs": [],
   "source": [
    "import cv2, mediapipe as mp , numpy as np , time\n",
    "import pyttsx3\n",
    "import threading\n"
   ]
  },
  {
   "cell_type": "code",
   "execution_count": 2,
   "id": "0b390ed1",
   "metadata": {},
   "outputs": [],
   "source": [
    "draw_utils = mp.solutions.drawing_utils\n",
    "pose_model = mp.solutions.pose"
   ]
  },
  {
   "cell_type": "markdown",
   "id": "7cb0b4f4",
   "metadata": {},
   "source": [
    "Connections and Landmarks in MediaPipe"
   ]
  },
  {
   "cell_type": "markdown",
   "id": "508c12a8",
   "metadata": {},
   "source": [
    "<img src = \"https://google.github.io/mediapipe/images/mobile/pose_tracking_full_body_landmarks.png\"></img>"
   ]
  },
  {
   "cell_type": "code",
   "execution_count": 3,
   "id": "784f3501",
   "metadata": {},
   "outputs": [],
   "source": [
    "def initiate_stance(left_hand_angle,right_hand_angle,flag = False):\n",
    "    if flag == True:\n",
    "        return True\n",
    "    else:\n",
    "        if left_hand_angle < 45 and right_hand_angle < 45:\n",
    "            flag = True\n",
    "            return True\n",
    "    return False"
   ]
  },
  {
   "cell_type": "code",
   "execution_count": 4,
   "id": "c456b95d",
   "metadata": {},
   "outputs": [],
   "source": [
    "def angle_between(a,b,c):\n",
    "    a = np.array(a) # First\n",
    "    b = np.array(b) # Mid\n",
    "    c = np.array(c) # End\n",
    "    \n",
    "    radians = np.arctan2(c[1]-b[1], c[0]-b[0]) - np.arctan2(a[1]-b[1], a[0]-b[0])\n",
    "    angle = np.abs(radians*180.0/np.pi)\n",
    "    \n",
    "    if angle >180.0:\n",
    "        angle = 360-angle\n",
    "        \n",
    "    return angle"
   ]
  },
  {
   "cell_type": "code",
   "execution_count": 5,
   "id": "9a9a8471",
   "metadata": {},
   "outputs": [],
   "source": [
    "def voice_counter(engine,x):\n",
    "    engine.say(str(counter))\n",
    "    engine.runAndWait()\n",
    "    return \n",
    "\n",
    "# voice_counter(1)"
   ]
  },
  {
   "cell_type": "code",
   "execution_count": 6,
   "id": "e5b342be",
   "metadata": {},
   "outputs": [],
   "source": [
    "def check_posture(knee_angle):\n",
    "    connec = frozenset({(pose_model.PoseLandmark.LEFT_HIP, pose_model.PoseLandmark.LEFT_KNEE),\n",
    "           (pose_model.PoseLandmark.RIGHT_HIP, pose_model.PoseLandmark.RIGHT_KNEE)})\n",
    "    if min(knee_angle) < 85:\n",
    "        draw_utils.draw_landmarks(img,results.pose_landmarks, connec,\n",
    "                                draw_utils.DrawingSpec(color=(255,255,0), thickness=0, circle_radius=0), \n",
    "                                draw_utils.DrawingSpec(color=(0,0,250), thickness=5, circle_radius=3) \n",
    "                                )"
   ]
  },
  {
   "cell_type": "code",
   "execution_count": null,
   "id": "71be86ce",
   "metadata": {},
   "outputs": [],
   "source": [
    "start = False\n",
    "prev_time = 0\n",
    "counter = 0 \n",
    "stage = None\n",
    "\n",
    "with pose_model.Pose(min_detection_confidence = 0.5,min_tracking_confidence = 0.5) as pose:\n",
    "#     cap  = cv2.VideoCapture(\"Squats.mp4\")\n",
    "    cap  = cv2.VideoCapture(0)\n",
    "    \n",
    "    engine = pyttsx3.init()\n",
    "    engine.setProperty(\"rate\", 115)\n",
    "    \n",
    "    vw = int(cap.get(3))\n",
    "    vh = int(cap.get(4))\n",
    "    \n",
    "#     To save results \n",
    "#     to_save = cv2.VideoWriter('Squats_result.avi', \n",
    "#                          cv2.VideoWriter_fourcc(*'MJPG'),\n",
    "#                          10, (vw, vh))\n",
    "    \n",
    "    while cap.isOpened():\n",
    "        ret, frame = cap.read()\n",
    "        # Recolor Image\n",
    "        img = cv2.cvtColor(frame,cv2.COLOR_BGR2RGB)\n",
    "        \n",
    "        img.flags.writeable = False\n",
    "        \n",
    "        # Running our model\n",
    "        results = pose.process(img)\n",
    "        \n",
    "        # Recolor Image\n",
    "        img = cv2.cvtColor(img,cv2.COLOR_RGB2BGR)\n",
    "        img.flags.writeable = True\n",
    "        \n",
    "        # Render Detections\n",
    "        \n",
    "        draw_utils.draw_landmarks(img, results.pose_landmarks, pose_model.POSE_CONNECTIONS,\n",
    "                                draw_utils.DrawingSpec(color=(255,0,0), thickness=2, circle_radius=4), \n",
    "                                draw_utils.DrawingSpec(color=(0,150,0), thickness=3, circle_radius=3) \n",
    "                                )\n",
    "        # Landmarks Extraction\n",
    "        try:\n",
    "            landmarks = results.pose_landmarks.landmark\n",
    "\n",
    "        # Get coordinates\n",
    "            \n",
    "            # For Initiatin stance\n",
    "            \n",
    "            right_wrist    = [landmarks[pose_model.PoseLandmark.RIGHT_WRIST.value].x,landmarks[pose_model.PoseLandmark.RIGHT_WRIST.value].y]\n",
    "            right_elbow    = [landmarks[pose_model.PoseLandmark.RIGHT_ELBOW.value].x,landmarks[pose_model.PoseLandmark.RIGHT_ELBOW.value].y]\n",
    "            right_shoulder = [landmarks[pose_model.PoseLandmark.RIGHT_SHOULDER.value].x,landmarks[pose_model.PoseLandmark.RIGHT_SHOULDER.value].y]\n",
    "\n",
    "            left_wrist    = [landmarks[pose_model.PoseLandmark.LEFT_WRIST.value].x,landmarks[pose_model.PoseLandmark.LEFT_WRIST.value].y]\n",
    "            left_elbow    = [landmarks[pose_model.PoseLandmark.LEFT_ELBOW.value].x,landmarks[pose_model.PoseLandmark.LEFT_ELBOW.value].y]\n",
    "            left_shoulder = [landmarks[pose_model.PoseLandmark.LEFT_SHOULDER.value].x,landmarks[pose_model.PoseLandmark.LEFT_SHOULDER.value].y]\n",
    "\n",
    "            # For Squat Counter\n",
    "            \n",
    "            left_hip   = [landmarks[pose_model.PoseLandmark.LEFT_HIP.value].x,landmarks[pose_model.PoseLandmark.LEFT_HIP.value].y]\n",
    "            left_knee  = [landmarks[pose_model.PoseLandmark.LEFT_KNEE.value].x,landmarks[pose_model.PoseLandmark.LEFT_KNEE.value].y]\n",
    "            left_ankle = [landmarks[pose_model.PoseLandmark.LEFT_ANKLE.value].x,landmarks[pose_model.PoseLandmark.LEFT_ANKLE.value].y]\n",
    "\n",
    "            right_hip   = [landmarks[pose_model.PoseLandmark.RIGHT_HIP.value].x,landmarks[pose_model.PoseLandmark.RIGHT_HIP.value].y]\n",
    "            right_knee  = [landmarks[pose_model.PoseLandmark.RIGHT_KNEE.value].x,landmarks[pose_model.PoseLandmark.RIGHT_KNEE.value].y]\n",
    "            right_ankle = [landmarks[pose_model.PoseLandmark.RIGHT_ANKLE.value].x,landmarks[pose_model.PoseLandmark.RIGHT_ANKLE.value].y]\n",
    "\n",
    "            \n",
    "            # Calculate angle\n",
    "            \n",
    "            angle_left      = angle_between(left_hip, left_knee, left_ankle)\n",
    "            angle_right     = angle_between(right_hip, right_knee, right_ankle)\n",
    "            angle_righthand = angle_between(right_wrist,right_elbow,right_shoulder)\n",
    "            angle_lefthand  = angle_between(left_wrist,left_elbow,left_shoulder)\n",
    "#           print(angle_left,angle_right)  --> checking for angle\n",
    "    \n",
    "            # Visualize knee_angle\n",
    "            cv2.putText(img, str(f\"{min(angle_left,angle_right):0.2f}\"), \n",
    "                           tuple(np.multiply(left_knee, [vw*0.85,vh]).astype('int32')), \n",
    "                           cv2.FONT_HERSHEY_SIMPLEX, 0.4, (100, 150, 160), 2, cv2.LINE_AA\n",
    "                                )\n",
    "            # Initiate Squats\n",
    "            \n",
    "            if initiate_stance(angle_lefthand,angle_righthand):\n",
    "                check_posture([angle_left,angle_right])\n",
    "                \n",
    "            # Curl counter logic\n",
    "                if angle_left > 160 and angle_right> 160:\n",
    "                    stage = \"DOWN\"\n",
    "                elif angle_left < 97 and angle_right <80 and stage =='DOWN':#due to angle of the video the left side angle is higher than right\n",
    "                    stage=\"UP\"\n",
    "                    counter +=1\n",
    "                    thread  = threading.Thread(target = voice_counter, args = [engine,counter]) # Voice output\n",
    "                    thread.start()\n",
    "        #         print(counter)\n",
    "        except:\n",
    "            pass\n",
    "         \n",
    "    # Display Data\n",
    "        \n",
    "        # Fps\n",
    "        curr_time = time.time()\n",
    "        fps = 1//(curr_time-prev_time)\n",
    "        prev_time = curr_time\n",
    "        \n",
    "        cv2.putText(img, \"FPS: \"+str(fps), (550,10),\n",
    "                    cv2.FONT_HERSHEY_SIMPLEX, 0.3, (0,0,255), 1, cv2.LINE_AA)\n",
    "        \n",
    "        # Counter Background\n",
    "        cv2.rectangle(img, (0,0), (225,73), (245,117,16), -1)\n",
    "        \n",
    "        # Squat Counter\n",
    "        cv2.putText(img, 'REPS', (10,12), \n",
    "                    cv2.FONT_HERSHEY_SIMPLEX, 0.5, (0,0,0), 1, cv2.LINE_AA) # Title\n",
    "        cv2.putText(img, str(counter), \n",
    "                    (13,50), \n",
    "                    cv2.FONT_HERSHEY_SIMPLEX, 1, (255,255,255), 2, cv2.LINE_AA) # Count\n",
    "        \n",
    "        # Guiding Stage\n",
    "        cv2.putText(img, 'GO', (70,12), \n",
    "                    cv2.FONT_HERSHEY_SIMPLEX, 0.5, (0,0,0), 1, cv2.LINE_AA) # Title\n",
    "        cv2.putText(img, stage, \n",
    "                    (65,50), \n",
    "                    cv2.FONT_HERSHEY_SIMPLEX, 1, (255,255,255), 2, cv2.LINE_AA)  # Direction to move  \n",
    "        \n",
    "        \n",
    "        \n",
    "        # Display img\n",
    "#         to_save.write(img)\n",
    "        \n",
    "        cv2.imshow(\"Mediapipe Feed\",img)\n",
    "    # Exit Loop when pressed e\n",
    "        if cv2.waitKey(2) & 0xFF == ord('e'):\n",
    "            break\n",
    "cap.release()\n",
    "# to_save.release()\n",
    "cv2.destroyAllWindows()"
   ]
  },
  {
   "cell_type": "code",
   "execution_count": null,
   "id": "8c8b5527",
   "metadata": {},
   "outputs": [],
   "source": []
  }
 ],
 "metadata": {
  "kernelspec": {
   "display_name": "Python 3",
   "language": "python",
   "name": "python3"
  },
  "language_info": {
   "codemirror_mode": {
    "name": "ipython",
    "version": 3
   },
   "file_extension": ".py",
   "mimetype": "text/x-python",
   "name": "python",
   "nbconvert_exporter": "python",
   "pygments_lexer": "ipython3",
   "version": "3.8.10"
  }
 },
 "nbformat": 4,
 "nbformat_minor": 5
}
